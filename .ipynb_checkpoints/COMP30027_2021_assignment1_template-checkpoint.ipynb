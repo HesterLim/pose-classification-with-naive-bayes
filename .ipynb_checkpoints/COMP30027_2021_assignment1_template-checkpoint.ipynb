{
 "cells": [
  {
   "cell_type": "markdown",
   "metadata": {},
   "source": [
    "###### ### The University of Melbourne, School of Computing and Information Systems\n",
    "# COMP30027 Machine Learning, 2021 Semester 1\n",
    "\n",
    "## Assignment 1: Pose classification with naive Bayes\n"
   ]
  },
  {
   "cell_type": "markdown",
   "metadata": {},
   "source": [
    "**Student ID(s):**     1039169, 1044793\n"
   ]
  },
  {
   "cell_type": "markdown",
   "metadata": {},
   "source": [
    "This iPython notebook is a template which you will use for your Assignment 1 submission.\n",
    "\n",
    "Marking will be applied on the four functions that are defined in this notebook, and to your responses to the questions at the end of this notebook (Submitted in a separate PDF file).\n",
    "\n",
    "**NOTE: YOU SHOULD ADD YOUR RESULTS, DIAGRAMS AND IMAGES FROM YOUR OBSERVATIONS IN THIS FILE TO YOUR REPORT (the PDF file).**\n",
    "\n",
    "You may change the prototypes of these functions, and you may write other functions, according to your requirements. We would appreciate it if the required functions were prominent/easy to find.\n",
    "\n",
    "**Adding proper comments to your code is MANDATORY. **"
   ]
  },
  {
   "cell_type": "code",
   "execution_count": 30,
   "metadata": {},
   "outputs": [],
   "source": [
    "# Load library\n",
    "#Testing github\n",
    "import pandas as pd\n",
    "import numpy as np\n",
    "\n",
    "# Create URL\n",
    "test_csv = \"~/pose-classification-with-naive-bayes/COMP30027_2021_assignment1_data/test.csv\"\n",
    "train_csv = \"~/pose-classification-with-naive-bayes/COMP30027_2021_assignment1_data/train.csv\"\n",
    "# Load Dataset \n",
    "test_df = pd.read_csv(test_csv, header = None)\n",
    "train_df = pd.read_csv(train_csv, header = None)"
   ]
  },
  {
   "cell_type": "code",
   "execution_count": 10,
   "metadata": {},
   "outputs": [],
   "source": [
    "# This function should prepare the data by reading it from a file and converting it into a useful format for training and testing\n",
    "\n",
    "def preprocess():\n",
    "    return"
   ]
  },
  {
   "cell_type": "code",
   "execution_count": 47,
   "metadata": {},
   "outputs": [
    {
     "name": "stdout",
     "output_type": "stream",
     "text": [
      "           0         1           2         3          4        5         6   \\\n",
      "0      bridge   54.8598   33.016600  -19.5182   -0.14849   8.9676  -33.5934   \n",
      "1      bridge    2.7613    0.723520  -19.5182   -0.14849  46.9342   61.5274   \n",
      "2      bridge  -87.4883  -38.946700   32.8427   93.59230  46.9342   61.5274   \n",
      "3      bridge -140.2714 -107.904500  -19.5182   -0.14849  46.9342   61.5274   \n",
      "4      bridge  171.6807   72.984300  -19.5182   -0.14849 -56.6202 -167.9182   \n",
      "..        ...       ...         ...       ...        ...      ...       ...   \n",
      "742  warrior2   19.1065    3.553000  -79.5098 -131.40380  85.5393  136.3820   \n",
      "743  warrior2  -14.9694    0.692970  -93.5317 -147.70310  96.1209  153.9108   \n",
      "744  warrior2  -25.3208   -9.957200 -105.8103 -156.47080  82.5501  137.2836   \n",
      "745  warrior2   -1.3885  -10.619800  -86.4193 -122.77250  69.0921  118.1787   \n",
      "746  warrior2  -21.7485    0.014172  -94.5443 -148.11380  93.9008  150.6695   \n",
      "\n",
      "           7         8         9   ...       13         14       15       16  \\\n",
      "0   -63.25060  -13.6323   -6.6108  ...  14.5333  65.242100  73.0468 -30.5872   \n",
      "1     0.47038  -13.6323   -6.6108  ...  60.6513  65.242100  73.0468  64.8649   \n",
      "2     0.47038  -13.6323   -6.6108  ...  -5.4110   0.091912  -3.8473  64.8649   \n",
      "3   -23.90420   65.4627   76.3410  ... -25.8142  65.242100  73.0468  64.8649   \n",
      "4   -20.12660  -13.6323   -6.6108  ...   2.1167  65.242100  73.0468 -38.3855   \n",
      "..        ...       ...       ...  ...      ...        ...      ...      ...   \n",
      "742   2.83820  -82.6325 -172.6672  ...  62.4044  67.916200  77.3104  68.9512   \n",
      "743  -2.62470 -107.9651 -130.3302  ...  72.5689  77.386400  76.4774  65.6195   \n",
      "744   4.54190  -92.6621 -116.9862  ...  64.9132  69.948300  73.0468  64.9163   \n",
      "745  -2.74420  -57.3115 -102.3196  ...  66.0730  73.048100  80.2707  79.4188   \n",
      "746   3.23850  -95.6088 -104.1969  ...  69.5507  77.007500  83.4404  71.6436   \n",
      "\n",
      "          17       18       19        20       21        22  \n",
      "0   -57.6515  41.6003 -41.1442  -93.2785 -35.9018  -93.2520  \n",
      "1    70.8083  17.8000 -41.1442  -93.2785 -35.9018  -93.2520  \n",
      "2    70.8083  17.8000 -41.1442  -93.2785 -35.9018  -93.2520  \n",
      "3    70.8083  28.4441  49.1976  -44.1205  38.9266  -37.7665  \n",
      "4   -28.2247  38.5907 -41.1442  -93.2785 -35.9018  -93.2520  \n",
      "..       ...      ...      ...       ...      ...       ...  \n",
      "742  76.2090 -37.5930 -89.8188 -137.5640 -52.4577 -138.6002  \n",
      "743  67.4624 -27.3761 -57.1713 -149.0554 -89.6673 -154.4773  \n",
      "744  70.9923 -34.0301 -46.5170 -139.9371 -92.0674 -139.6989  \n",
      "745  81.1999 -33.6164 -83.3311 -125.3900 -78.7584 -164.6995  \n",
      "746  72.7115 -30.3973 -64.2691 -154.7582 -82.5485 -157.1568  \n",
      "\n",
      "[747 rows x 23 columns]\n"
     ]
    }
   ],
   "source": [
    "new_test_df = test_df.copy()\n",
    "i = 1\n",
    "while i < len(new_test_df.columns):\n",
    "    for column in new_test_df[i]:\n",
    "        median = new_test_df[i].median()\n",
    "        new_test_df[i] = np.where(new_test_df[i] == 9999, median, new_test_df[i])\n",
    "    i += 1\n",
    "\n",
    "new_train_df = train_df.copy()\n",
    "j = 1\n",
    "while j < len(new_train_df.columns):\n",
    "    for column in new_train_df[j]:\n",
    "        median = new_train_df[j].median()\n",
    "        new_train_df[j] = np.where(new_train_df[j] == 9999, median, new_train_df[j])\n",
    "    j += 1"
   ]
  },
  {
   "cell_type": "code",
   "execution_count": null,
   "metadata": {
    "collapsed": true
   },
   "outputs": [],
   "source": [
    "# This function should calculate prior probabilities and likelihoods from the training data and using\n",
    "# them to build a naive Bayes model\n",
    "\n",
    "def train():\n",
    "    return"
   ]
  },
  {
   "cell_type": "code",
   "execution_count": null,
   "metadata": {
    "collapsed": true
   },
   "outputs": [],
   "source": [
    "# This function should predict classes for new items in a test dataset (for the purposes of this assignment, you\n",
    "# can re-use the training data as a test set)\n",
    "\n",
    "def predict():\n",
    "    return"
   ]
  },
  {
   "cell_type": "code",
   "execution_count": null,
   "metadata": {
    "collapsed": true
   },
   "outputs": [],
   "source": [
    "# This function should evaliate the prediction performance by comparing your model’s class outputs to ground\n",
    "# truth labels\n",
    "\n",
    "def evaluate():\n",
    "    return"
   ]
  },
  {
   "cell_type": "markdown",
   "metadata": {},
   "source": [
    "## Questions \n",
    "\n",
    "\n",
    "If you are in a group of 1, you will respond to **two** questions of your choosing.\n",
    "\n",
    "If you are in a group of 2, you will respond to **four** questions of your choosing.\n",
    "\n",
    "A response to a question should take about 100–250 words, and make reference to the data wherever possible.\n",
    "\n",
    "#### NOTE: you may develope codes or functions to help respond to the question here, but your formal answer should be submitted separately as a PDF."
   ]
  },
  {
   "cell_type": "markdown",
   "metadata": {},
   "source": [
    "### Q1\n",
    "Since this is a multiclass classification problem, there are multiple ways to compute precision, recall, and F-score for this classifier. Implement at least two of the methods from the \"Model Evaluation\" lecture and discuss any differences between them. (The implementation should be your own and should not just call a pre-existing function.)"
   ]
  },
  {
   "cell_type": "code",
   "execution_count": null,
   "metadata": {
    "collapsed": true
   },
   "outputs": [],
   "source": []
  },
  {
   "cell_type": "markdown",
   "metadata": {},
   "source": [
    "### Q2\n",
    "The Gaussian naıve Bayes classifier assumes that numeric attributes come from a Gaussian distribution. Is this assumption always true for the numeric attributes in this dataset? Identify some cases where the Gaussian assumption is violated and describe any evidence (or lack thereof) that this has some effect on the classifier’s predictions."
   ]
  },
  {
   "cell_type": "code",
   "execution_count": null,
   "metadata": {
    "collapsed": true
   },
   "outputs": [],
   "source": []
  },
  {
   "cell_type": "markdown",
   "metadata": {},
   "source": [
    "### Q3\n",
    "Implement a kernel density estimate (KDE) naive Bayes classifier and compare its performance to the Gaussian naive Bayes classifier. Recall that KDE has kernel bandwidth as a free parameter -- you can choose an arbitrary value for this, but a value in the range 5-25 is recommended. Discuss any differences you observe between the Gaussian and KDE naive Bayes classifiers. (As with the Gaussian naive Bayes, this KDE naive Bayes implementation should be your own and should not just call a pre-existing function.)"
   ]
  },
  {
   "cell_type": "code",
   "execution_count": null,
   "metadata": {
    "collapsed": true
   },
   "outputs": [],
   "source": []
  },
  {
   "cell_type": "markdown",
   "metadata": {},
   "source": [
    "### Q4\n",
    "Instead of using an arbitrary kernel bandwidth for the KDE naive Bayes classifier, use random hold-out or cross-validation to choose the kernel bandwidth. Discuss how this changes the model performance compared to using an arbitrary kernel bandwidth."
   ]
  },
  {
   "cell_type": "code",
   "execution_count": null,
   "metadata": {
    "collapsed": true
   },
   "outputs": [],
   "source": []
  },
  {
   "cell_type": "markdown",
   "metadata": {},
   "source": [
    "### Q5\n",
    "Naive Bayes ignores missing values, but in pose recognition tasks the missing values can be informative. Missing values indicate that some part of the body was obscured and sometimes this is relevant to the pose (e.g., holding one hand behind the back). Are missing values useful for this task? Implement a method that incorporates information about missing values and demonstrate whether it changes the classification results."
   ]
  },
  {
   "cell_type": "code",
   "execution_count": null,
   "metadata": {
    "collapsed": true
   },
   "outputs": [],
   "source": []
  },
  {
   "cell_type": "markdown",
   "metadata": {},
   "source": [
    "### Q6\n",
    "Engineer your own pose features from the provided keypoints. Instead of using the (x,y) positions of keypoints, you might consider the angles of the limbs or body, or the distances between pairs of keypoints. How does a naive Bayes classifier based on your engineered features compare to the classifier using (x,y) values? Please note that we are interested in explainable features for pose recognition, so simply putting the (x,y) values in a neural network or similar to get an arbitrary embedding will not receive full credit for this question. You should be able to explain the rationale behind your proposed features. Also, don't forget the conditional independence assumption of naive Bayes when proposing new features -- a large set of highly-correlated features may not work well."
   ]
  },
  {
   "cell_type": "code",
   "execution_count": null,
   "metadata": {
    "collapsed": true
   },
   "outputs": [],
   "source": []
  }
 ],
 "metadata": {
  "kernelspec": {
   "display_name": "Python 3",
   "language": "python",
   "name": "python3"
  },
  "language_info": {
   "codemirror_mode": {
    "name": "ipython",
    "version": 3
   },
   "file_extension": ".py",
   "mimetype": "text/x-python",
   "name": "python",
   "nbconvert_exporter": "python",
   "pygments_lexer": "ipython3",
   "version": "3.9.2"
  }
 },
 "nbformat": 4,
 "nbformat_minor": 4
}
